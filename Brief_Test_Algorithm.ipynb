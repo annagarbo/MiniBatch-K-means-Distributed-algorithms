{
 "cells": [
  {
   "cell_type": "code",
   "execution_count": 1,
   "id": "67799221",
   "metadata": {},
   "outputs": [],
   "source": [
    "import numpy as np\n",
    "import matplotlib.pyplot as plt\n",
    "import random\n",
    "\n",
    "from pyspark.sql import SparkSession\n",
    "from pyspark import SparkContext\n",
    "from pyspark.sql.types import StructType, StructField, DoubleType,IntegerType\n",
    "from pyspark.sql import Row\n",
    "from pyspark.sql.functions import array, lit,udf\n",
    "import time\n",
    "from sklearn.metrics import silhouette_samples, silhouette_score\n"
   ]
  },
  {
   "cell_type": "markdown",
   "id": "e3328775",
   "metadata": {},
   "source": [
    "# MiniBatch K-means Algorithm\n",
    "The idea and concept of this Mini K-means Implemantion has been taken from \n",
    "`Sculley, David. \"Web-scale k-means clustering.\" Proceedings of the 19th international conference on World wide web. 2010.`"
   ]
  },
  {
   "cell_type": "markdown",
   "id": "7dc996a7",
   "metadata": {},
   "source": [
    "### Clustering error function"
   ]
  },
  {
   "cell_type": "code",
   "execution_count": 2,
   "id": "579fe115",
   "metadata": {},
   "outputs": [],
   "source": [
    "def clustering_error_inf(centroids, data_points):\n",
    "    num_points = data_points.shape[0]\n",
    "    \n",
    "    num_clusters = centroids.shape[0]\n",
    "    \n",
    "   \n",
    "    # Quadratic distance between given points and cluster centroids\n",
    "    distances = np.zeros(num_points)\n",
    "    for i in range(num_points):\n",
    "        point = data_points[i]\n",
    "        distances[i] = np.min(np.sum((centroids - point) ** 2, axis=1))\n",
    "\n",
    "    # Mean Squared Error (MSE)\n",
    "    mse = np.sum(distances) / num_points\n",
    "\n",
    "    return mse\n",
    "\n",
    "def compute_distances(X, centroids):\n",
    "    \"\"\" \n",
    "    Return Euclidean distance between points and centroids\n",
    "    assuming both to have the same number of dimensions\n",
    "    \"\"\"\n",
    "    # Assuming X and centroids have the same number of dimensions\n",
    "    s_sq_difference = np.sum((X - centroids)**2, axis=1)\n",
    "    distances = np.sqrt(s_sq_difference)\n",
    "    \n",
    "    return distances\n",
    "\n",
    "def compute_distance(point, centroids):\n",
    "    return np.linalg.norm(point - centroids, axis=1) ** 2\n",
    "\n"
   ]
  },
  {
   "cell_type": "markdown",
   "id": "15ead8ab",
   "metadata": {},
   "source": [
    "### Cost Function"
   ]
  },
  {
   "cell_type": "code",
   "execution_count": 3,
   "id": "9a4fadb3",
   "metadata": {},
   "outputs": [],
   "source": [
    "def cost(X, centroids):\n",
    "    \"\"\"\n",
    "    Estimation of algorithm mean cost function.\n",
    "    \n",
    "    Args:\n",
    "        X (numpy array): (n_samples, n_features).\n",
    "        centroids (numpy array): (n_clusters, n_features).\n",
    "    \n",
    "    Returns:\n",
    "        float\n",
    "    \"\"\"\n",
    "    n_samples = X.shape[0]\n",
    "    n_clusters = centroids.shape[0]\n",
    "\n",
    "    # Quadratic distance between points and centroids\n",
    "    distances = np.zeros(n_samples)\n",
    "    for i in range(n_samples):\n",
    "        point = X[i]\n",
    "        squared_distances = np.sum((centroids - point) ** 2, axis=1)\n",
    "        min_distance = np.min(squared_distances)\n",
    "        distances[i] = min_distance\n",
    "\n",
    "    # Total cost with minimum distance\n",
    "    total_cost = np.sum(distances)\n",
    "    \n",
    "    return total_cost/n_samples\n",
    "\n"
   ]
  },
  {
   "cell_type": "markdown",
   "id": "165b8135",
   "metadata": {},
   "source": [
    "### MiniBatch K-means function"
   ]
  },
  {
   "cell_type": "code",
   "execution_count": 4,
   "id": "d3e53afe",
   "metadata": {},
   "outputs": [],
   "source": [
    "def mini_kmeans(X, sc, num_clusters=5, iteration=10, batch_size=20, n_partitions=20):\n",
    "    k = num_clusters\n",
    "    b = batch_size\n",
    "    t = iteration\n",
    "    N = X.shape[0]\n",
    "    C = X[np.random.choice(N, k, replace=False)]\n",
    "    v = np.zeros(len(C))\n",
    "    Y = np.empty(N, dtype=np.int32)\n",
    "    times = []\n",
    "    mse = []\n",
    "\n",
    "    for i in range(t):\n",
    "        start = time.time()\n",
    "        mini_batch_idx = np.random.choice(range(N), size=b, replace=False)\n",
    "        mini_batch = X[mini_batch_idx]\n",
    "\n",
    "        if n_partitions is not None:\n",
    "            dist_mini_batch_idx = sc.parallelize(mini_batch_idx, n_partitions)\n",
    "        else:\n",
    "            dist_mini_batch_idx = sc.parallelize(mini_batch_idx)\n",
    "\n",
    "        distances_rdd = dist_mini_batch_idx.map(lambda x: (x, compute_distance(X[x], C)))\n",
    "        nearest_cluster_rdd = distances_rdd.map(lambda x: (x[0], np.argmin(x[1], axis=0)))\n",
    "        Y[mini_batch_idx] = nearest_cluster_rdd.values().collect()\n",
    "\n",
    "        for idx in mini_batch_idx:\n",
    "            v[Y[idx]] += 1\n",
    "            learning_rate = 1 / v[Y[idx]]\n",
    "            C[Y[idx]] = (1 - learning_rate) * C[Y[idx]] + learning_rate * X[idx]\n",
    "\n",
    "        end = time.time()\n",
    "        times.append(end - start)\n",
    "\n",
    "        # Mean Squared Error\n",
    "        mse_value = np.mean([np.min(compute_distance(X[i], C)) for i in mini_batch_idx])\n",
    "        mse.append(mse_value)\n",
    "\n",
    "    return C, times, mse"
   ]
  },
  {
   "cell_type": "markdown",
   "id": "37418e26",
   "metadata": {},
   "source": [
    "### Spark Configuration"
   ]
  },
  {
   "cell_type": "code",
   "execution_count": 5,
   "id": "8e053609",
   "metadata": {},
   "outputs": [],
   "source": [
    "sc.stop()"
   ]
  },
  {
   "cell_type": "code",
   "execution_count": 6,
   "id": "67b04cba",
   "metadata": {},
   "outputs": [
    {
     "data": {
      "text/html": [
       "\n",
       "        <div>\n",
       "            <p><b>SparkContext</b></p>\n",
       "\n",
       "            <p><a href=\"http://master:4040\">Spark UI</a></p>\n",
       "\n",
       "            <dl>\n",
       "              <dt>Version</dt>\n",
       "                <dd><code>v3.4.0</code></dd>\n",
       "              <dt>Master</dt>\n",
       "                <dd><code>spark://10.67.22.233:7077</code></dd>\n",
       "              <dt>AppName</dt>\n",
       "                <dd><code>Mini Batch K-means</code></dd>\n",
       "            </dl>\n",
       "        </div>\n",
       "        "
      ],
      "text/plain": [
       "<SparkContext master=spark://10.67.22.233:7077 appName=Mini Batch K-means>"
      ]
     },
     "execution_count": 6,
     "metadata": {},
     "output_type": "execute_result"
    }
   ],
   "source": [
    "spark = SparkSession.builder \\\n",
    "    .appName(\"Mini Batch K-means\")\\\n",
    "    .config(\"spark.cores.max\",\"8\")\\\n",
    "    .config(\"spark.executor.memory\", \"6g\")\\\n",
    "    .getOrCreate()\n",
    "\n",
    "# create a spark context\n",
    "sc = spark.sparkContext\n",
    "# print its status\n",
    "sc"
   ]
  },
  {
   "cell_type": "markdown",
   "id": "0661ddd9",
   "metadata": {},
   "source": [
    "## DATASET GENERATION"
   ]
  },
  {
   "cell_type": "code",
   "execution_count": 7,
   "id": "d5ab2a06",
   "metadata": {},
   "outputs": [
    {
     "name": "stderr",
     "output_type": "stream",
     "text": [
      "                                                                                \r"
     ]
    }
   ],
   "source": [
    "num_features_=2\n",
    "# Define the schema for the DataFrame\n",
    "schema = StructType([\n",
    "    StructField(\"feature1\", DoubleType(), True),\n",
    "    StructField(\"feature2\", DoubleType(), True)\n",
    "])\n",
    "\n",
    "# RANDOM DATA GENERATION FUNCTION\n",
    "def generate_data(num_points, num_features, num_clusters):\n",
    "    data = []\n",
    "    centers = [np.random.rand(num_features) * 100 for _ in range(num_clusters)]\n",
    "    for _ in range(num_points):\n",
    "        center = random.choice(centers)\n",
    "        point = center + np.random.randn(num_features) * 3\n",
    "        data.append(point.tolist())  # Convert NumPy array to Python list\n",
    "    return data\n",
    "\n",
    "\n",
    "data = generate_data(num_points=10000, num_features=num_features_, num_clusters=5)\n",
    "\n",
    "data_rdd = sc.parallelize(data)\n",
    "data_array=np.array(data_rdd.collect())\n",
    "\n",
    "data_df = data_rdd.map(lambda x: (x[0], x[1])).toDF([\"feature1\", \"feature2\"])"
   ]
  },
  {
   "cell_type": "code",
   "execution_count": 8,
   "id": "893bd3b0",
   "metadata": {},
   "outputs": [
    {
     "name": "stderr",
     "output_type": "stream",
     "text": [
      "                                                                                \r"
     ]
    },
    {
     "name": "stdout",
     "output_type": "stream",
     "text": [
      "Mean execution time: 2.14 s\n"
     ]
    }
   ],
   "source": [
    "start=time.time()\n",
    "C_k,timeS,mse = mini_kmeans(data_array,sc,n_partitions=2,num_clusters=5 )\n",
    "end=time.time()\n",
    "\n",
    "print('Mean execution time:',round(end-start,2),'s')"
   ]
  },
  {
   "cell_type": "code",
   "execution_count": 9,
   "id": "fde6cf5a",
   "metadata": {},
   "outputs": [
    {
     "name": "stderr",
     "output_type": "stream",
     "text": [
      "[Stage 12:>                                                         (0 + 1) / 1]\r"
     ]
    },
    {
     "name": "stdout",
     "output_type": "stream",
     "text": [
      "+------------------+------------------+-------+\n",
      "|          feature1|          feature2|cluster|\n",
      "+------------------+------------------+-------+\n",
      "|15.672453764573735|16.668851389289703|      0|\n",
      "|13.140857559104177|16.873829834222303|      0|\n",
      "| 17.51777738398345|38.284157066681495|      3|\n",
      "| 10.85540726271002|15.897368295881435|      0|\n",
      "|39.953377745441266|32.349732725786524|      4|\n",
      "| 17.01751515402286|20.935642093532792|      0|\n",
      "|12.149470660205049|12.541563748003089|      0|\n",
      "|  34.7626341294516|34.816227942092496|      2|\n",
      "| 18.19079601273816| 17.76010442889907|      0|\n",
      "| 34.64170375693768|61.375144544714445|      1|\n",
      "+------------------+------------------+-------+\n",
      "only showing top 10 rows\n",
      "\n"
     ]
    },
    {
     "name": "stderr",
     "output_type": "stream",
     "text": [
      "                                                                                \r"
     ]
    }
   ],
   "source": [
    "# Function to assign point to a cluster through centroids\n",
    "# UDF: user defined function\n",
    "def assign_to_cluster_udf(features, centroids):\n",
    "    point = np.array(features)\n",
    "    distances = compute_distances(point, centroids)\n",
    "    return int(np.argmin(distances))\n",
    "\n",
    "assign_cluster_udf = udf(assign_to_cluster_udf, IntegerType())\n",
    "\n",
    "# Adding clustering column to Dataframe\n",
    "data_df = data_df.withColumn(\"cluster\", assign_cluster_udf(array(\"feature1\", \"feature2\"), lit(C_k.tolist())))\n",
    "\n",
    "# Stampa i primi 10 record con la colonna \"cluster\" aggiunta\n",
    "data_df.show(10)"
   ]
  },
  {
   "cell_type": "markdown",
   "id": "cde073c7",
   "metadata": {},
   "source": [
    "## Plot of clusterized data"
   ]
  },
  {
   "cell_type": "code",
   "execution_count": 10,
   "id": "7f4abd90",
   "metadata": {
    "scrolled": true
   },
   "outputs": [
    {
     "name": "stderr",
     "output_type": "stream",
     "text": [
      "                                                                                \r"
     ]
    },
    {
     "data": {
      "image/png": "[encoded data removed]",
      "text/plain": [
       "<Figure size 640x480 with 1 Axes>"
      ]
     },
     "metadata": {},
     "output_type": "display_data"
    }
   ],
   "source": [
    "data_points = data_df.select(\"feature1\", \"feature2\", \"cluster\").collect()\n",
    "\n",
    "colors = ['b', 'g', 'r','y','c']\n",
    "\n",
    "cluster_data = {i: [] for i in range(5)}\n",
    "\n",
    "\n",
    "for row in data_points:\n",
    "    cluster = row['cluster']\n",
    "    cluster_data[cluster].append((row['feature1'], row['feature2']))\n",
    "\n",
    "\n",
    "for cluster, points in cluster_data.items():\n",
    "    x = [p[0] for p in points]\n",
    "    y = [p[1] for p in points]\n",
    "    plt.scatter(x, y, c=colors[cluster], label=f'Cluster {cluster}')\n",
    "\n",
    "plt.xlabel('Feature 1')\n",
    "plt.ylabel('Feature 2')\n",
    "\n",
    "\n",
    "plt.legend()\n",
    "\n",
    "plt.show()"
   ]
  },
  {
   "cell_type": "markdown",
   "id": "a4f0afd8",
   "metadata": {},
   "source": [
    "# Silhouette score"
   ]
  },
  {
   "cell_type": "code",
   "execution_count": 11,
   "id": "cc7506ff",
   "metadata": {},
   "outputs": [
    {
     "name": "stdout",
     "output_type": "stream",
     "text": [
      "Silhouette Score: 0.6759890843470358\n"
     ]
    }
   ],
   "source": [
    "cluster_labels = np.empty(len(data_array), dtype=np.int32)\n",
    "for i in range(len(data_array)):\n",
    "    distances = compute_distances(data_array[i], C_k)\n",
    "    cluster_labels[i] = np.argmin(distances)\n",
    "\n",
    "# Silhouette Score\n",
    "silhouette_avg = silhouette_score(data_array, cluster_labels)\n",
    "print(f\"Silhouette Score: {silhouette_avg}\")"
   ]
  },
  {
   "cell_type": "code",
   "execution_count": 12,
   "id": "907c85e5",
   "metadata": {},
   "outputs": [],
   "source": [
    "sc.stop()"
   ]
  },
  {
   "cell_type": "code",
   "execution_count": null,
   "id": "eaee27ed",
   "metadata": {},
   "outputs": [],
   "source": []
  }
 ],
 "metadata": {
  "kernelspec": {
   "display_name": "Python 3 (ipykernel)",
   "language": "python",
   "name": "python3"
  },
  "language_info": {
   "codemirror_mode": {
    "name": "ipython",
    "version": 3
   },
   "file_extension": ".py",
   "mimetype": "text/x-python",
   "name": "python",
   "nbconvert_exporter": "python",
   "pygments_lexer": "ipython3",
   "version": "3.10.13"
  }
 },
 "nbformat": 4,
 "nbformat_minor": 5
}
